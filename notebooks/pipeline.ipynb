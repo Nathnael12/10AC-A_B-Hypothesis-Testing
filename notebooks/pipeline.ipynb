{
 "cells": [
  {
   "cell_type": "code",
   "execution_count": 23,
   "metadata": {},
   "outputs": [],
   "source": [
    "from sklearn.pipeline import Pipeline\n",
    "import pandas as pd\n",
    "import seaborn as sns\n",
    "import sys\n",
    "sys.path.append(\"../scripts\")\n",
    "\n",
    "\n",
    "from clean_data import DataCleaner\n",
    "import os\n",
    "from sklearn.model_selection import train_test_split\n",
    "from sklearn.linear_model import LogisticRegression\n",
    "from sklearn.model_selection import KFold\n",
    "from sklearn.preprocessing import LabelEncoder\n",
    "from sklearn.base import BaseEstimator,TransformerMixin"
   ]
  },
  {
   "cell_type": "code",
   "execution_count": 8,
   "metadata": {},
   "outputs": [],
   "source": [
    "cleaner= DataCleaner()\n",
    "data_name=\"AdSmartABdata.csv\""
   ]
  },
  {
   "cell_type": "code",
   "execution_count": 35,
   "metadata": {},
   "outputs": [],
   "source": [
    "class ReadData(BaseEstimator,TransformerMixin):\n",
    "    def fit(self,X=None,y=None):\n",
    "        return self\n",
    "    def transform(self,X=None):\n",
    "        df = pd.read_csv(f'../data/{data_name}')\n",
    "        return df"
   ]
  },
  {
   "cell_type": "code",
   "execution_count": 36,
   "metadata": {},
   "outputs": [],
   "source": [
    "class CleanData():\n",
    "    def fit(self,df,y=None):\n",
    "        return self\n",
    "    def transform(self,df:pd.DataFrame):\n",
    "\n",
    "        cleaned_df=cleaner.drop_unresponsive(df)\n",
    "        \n",
    "        # control_df=cleaned_df[cleaned_df['experiment']=='control']\n",
    "        # exposed_df=cleaned_df[cleaned_df['experiment']=='exposed']\n",
    "\n",
    "        combined_df=cleaned_df.drop(columns=['no'])\n",
    "        combined_df.rename(columns={'yes':'response'},inplace=True)\n",
    "        return combined_df"
   ]
  },
  {
   "cell_type": "code",
   "execution_count": 37,
   "metadata": {},
   "outputs": [],
   "source": [
    "# 1st step Split data\n",
    "\n",
    "class DataSplit():\n",
    "\n",
    "    def fit(self,df,y=None):\n",
    "        return self\n",
    "        \n",
    "    def transform(self,df:pd.DataFrame):\n",
    "\n",
    "        browser_df=df.loc[:,df.columns!='platform_os']\n",
    "        platform_df=df.loc[:,df.columns!='browser']\n",
    "        \n",
    "        return browser_df,platform_df"
   ]
  },
  {
   "cell_type": "code",
   "execution_count": 43,
   "metadata": {},
   "outputs": [],
   "source": [
    "# 2nd step Encode Categorical\n",
    "class Feature_Encodder():\n",
    "    def fit(self,df,y=None):\n",
    "        return self\n",
    "\n",
    "    def transform(self,df:tuple):\n",
    "\n",
    "        browser_df,platform_df=df\n",
    "        encoder = LabelEncoder()\n",
    "        \n",
    "        browser_df['date'] = encoder.fit_transform(browser_df['date'])\n",
    "        browser_df['device_make'] = encoder.fit_transform(browser_df['device_make'])\n",
    "        browser_df['browser'] = encoder.fit_transform(browser_df['browser'])\n",
    "        browser_df['experiment'] = encoder.fit_transform(browser_df['experiment'])\n",
    "        browser_df['response'] = encoder.fit_transform(browser_df['response'])\n",
    "        \n",
    "        platform_df['date'] = encoder.fit_transform(platform_df['date'])\n",
    "        platform_df['device_make'] = encoder.fit_transform(platform_df['device_make'])\n",
    "        platform_df['experiment'] = encoder.fit_transform(platform_df['experiment'])\n",
    "        platform_df['response'] = encoder.fit_transform(platform_df['response'])\n",
    "\n",
    "        return browser_df,platform_df"
   ]
  },
  {
   "cell_type": "code",
   "execution_count": 47,
   "metadata": {},
   "outputs": [],
   "source": [
    "\n",
    "class Feature_Selection():\n",
    "    def fit(self,df,y=None):\n",
    "        return self\n",
    "\n",
    "    def transform(self,df:tuple):\n",
    "\n",
    "        browser_df,platform_df=df\n",
    "        browser_df=browser_df.drop(columns=\"auction_id\")\n",
    "        platform_df=platform_df.drop(columns=\"auction_id\")\n",
    "        \n",
    "\n",
    "        return browser_df,platform_df"
   ]
  },
  {
   "cell_type": "code",
   "execution_count": null,
   "metadata": {},
   "outputs": [],
   "source": [
    "class TestSplit():\n",
    "    def fit(self,df,y=None):\n",
    "        return self\n",
    "\n",
    "    def transform(self,df:tuple):\n",
    "\n",
    "        browser_df,platform_df=df\n",
    "\n",
    "        X_browser = browser_df.iloc[:,:-1]\n",
    "        y_browser = browser_df.iloc[:,-1:]\n",
    "\n",
    "        X_platform = platform_df.iloc[:,:-1]\n",
    "        y_platform = platform_df.iloc[:,-1:]\n",
    "\n",
    "        browser_df_set=X_browser,y_browser\n",
    "        platform_df_set=X_platform,y_platform\n",
    "        \n",
    "\n",
    "        return browser_df_set,platform_df_set"
   ]
  },
  {
   "cell_type": "code",
   "execution_count": 48,
   "metadata": {},
   "outputs": [],
   "source": [
    "pipline = Pipeline([(\"loader\", ReadData()),\n",
    "                    (\"cleaner\", CleanData()),\n",
    "                    (\"spliter\", DataSplit()),\n",
    "                    (\"feature_encodder\", Feature_Encodder()),\n",
    "                    (\"feature_selector\", Feature_Selection()),\n",
    "                    (\"train_test\", TestSplit())])\n",
    "\n",
    "strat_train_set = pipline.fit_transform(X=None)\n"
   ]
  }
 ],
 "metadata": {
  "kernelspec": {
   "display_name": "Python 3.10.4 64-bit",
   "language": "python",
   "name": "python3"
  },
  "language_info": {
   "codemirror_mode": {
    "name": "ipython",
    "version": 3
   },
   "file_extension": ".py",
   "mimetype": "text/x-python",
   "name": "python",
   "nbconvert_exporter": "python",
   "pygments_lexer": "ipython3",
   "version": "3.10.4"
  },
  "orig_nbformat": 4,
  "vscode": {
   "interpreter": {
    "hash": "90978d7a57357001f6d0fedca3f3848cad6c097ec2b59b9dd0200233ae8f22ca"
   }
  }
 },
 "nbformat": 4,
 "nbformat_minor": 2
}
